{
  "nbformat": 4,
  "nbformat_minor": 0,
  "metadata": {
    "colab": {
      "provenance": [],
      "authorship_tag": "ABX9TyO3XkHZ/fGcv/eKvu3NzxZ5",
      "include_colab_link": true
    },
    "kernelspec": {
      "name": "python3",
      "display_name": "Python 3"
    },
    "language_info": {
      "name": "python"
    }
  },
  "cells": [
    {
      "cell_type": "markdown",
      "metadata": {
        "id": "view-in-github",
        "colab_type": "text"
      },
      "source": [
        "<a href=\"https://colab.research.google.com/github/alexis-castellanos/py-hardware-utils/blob/main/Linear_Regression.ipynb\" target=\"_parent\"><img src=\"https://colab.research.google.com/assets/colab-badge.svg\" alt=\"Open In Colab\"/></a>"
      ]
    },
    {
      "cell_type": "code",
      "metadata": {
        "id": "ye6zvNDYAEqn"
      },
      "source": [
        "import torch\n",
        "import torch.nn as nn\n",
        "import numpy as np\n",
        "import matplotlib.pyplot as plt"
      ],
      "execution_count": null,
      "outputs": []
    },
    {
      "cell_type": "code",
      "metadata": {
        "id": "qWGQpxllAKl0"
      },
      "source": [
        "# generate 20 data points\n",
        "N = 20\n",
        "\n",
        "#random data on the x-axis in (-5,+5)\n",
        "X = np.random.random(N)*10-5\n",
        "\n",
        "# alist plus some noise\n",
        "Y = 0.5 * X - 1 + np.random.randn(N)"
      ],
      "execution_count": null,
      "outputs": []
    },
    {
      "cell_type": "code",
      "metadata": {
        "colab": {
          "base_uri": "https://localhost:8080/",
          "height": 282
        },
        "id": "ZRIACEv1AMya",
        "outputId": "758d6273-b0a3-4e0e-b93b-a346b9e26394"
      },
      "source": [
        "#plot the data\n",
        "plt.scatter(X,Y)\n",
        "\n",
        "\n"
      ],
      "execution_count": null,
      "outputs": [
        {
          "output_type": "execute_result",
          "data": {
            "text/plain": [
              "<matplotlib.collections.PathCollection at 0x7f7725c84310>"
            ]
          },
          "metadata": {
            "tags": []
          },
          "execution_count": 3
        },
        {
          "output_type": "display_data",
          "data": {
            "image/png": "[encoded data removed]",
            "text/plain": [
              "<Figure size 432x288 with 1 Axes>"
            ]
          },
          "metadata": {
            "tags": [],
            "needs_background": "light"
          }
        }
      ]
    },
    {
      "cell_type": "code",
      "metadata": {
        "id": "mIbC8_MZAOe2"
      },
      "source": [
        "#create the linear regression model\n",
        "model = nn.Linear(1,1)"
      ],
      "execution_count": null,
      "outputs": []
    },
    {
      "cell_type": "markdown",
      "source": [],
      "metadata": {
        "id": "kF4xuyOCT3oZ"
      }
    },
    {
      "cell_type": "code",
      "metadata": {
        "id": "Q-8KnR0sATGA"
      },
      "source": [
        "#loss and optimizer\n",
        "criterion = nn.MSELoss()\n",
        "optimizer = torch.optim.SGD(model.parameters(),lr=0.1)"
      ],
      "execution_count": null,
      "outputs": []
    },
    {
      "cell_type": "markdown",
      "source": [],
      "metadata": {
        "id": "nBttNcErT3-8"
      }
    },
    {
      "cell_type": "code",
      "metadata": {
        "id": "hRPpe-EBAUya"
      },
      "source": [
        "#in ml we want our data to be of shape:\n",
        "# (num_samples x num_dimesions)\n",
        "X = X.reshape(N,1)\n",
        "Y = Y.reshape(N,1)"
      ],
      "execution_count": null,
      "outputs": []
    },
    {
      "cell_type": "code",
      "metadata": {
        "id": "YZFAkbfiAWYp"
      },
      "source": [
        "#PyTorch uses float32 by defau;t\n",
        "#Numpy uses float64 by default\n",
        "\n",
        "inputs = torch.from_numpy(X.astype(np.float32))\n",
        "targets = torch.from_numpy(Y.astype(np.float32))"
      ],
      "execution_count": null,
      "outputs": []
    },
    {
      "cell_type": "code",
      "metadata": {
        "colab": {
          "base_uri": "https://localhost:8080/"
        },
        "id": "F4Zs1M2JAYgt",
        "outputId": "2267ab1a-07e4-45c0-adc1-a6f5b740f038"
      },
      "source": [
        "type(inputs)"
      ],
      "execution_count": null,
      "outputs": [
        {
          "output_type": "execute_result",
          "data": {
            "text/plain": [
              "torch.Tensor"
            ]
          },
          "metadata": {
            "tags": []
          },
          "execution_count": 8
        }
      ]
    },
    {
      "cell_type": "code",
      "metadata": {
        "colab": {
          "base_uri": "https://localhost:8080/"
        },
        "id": "C0tVQ-QtAaSh",
        "outputId": "03dec05e-a4e2-4302-9f86-66a42c7e2e88"
      },
      "source": [
        "#train the model\n",
        "\n",
        "n_epochs = 30\n",
        "losses = []\n",
        "\n",
        "for it in range(n_epochs):\n",
        "    #zero the parameters gradients\n",
        "    optimizer.zero_grad()\n",
        "\n",
        "    #forward pass\n",
        "    outputs = model(inputs)\n",
        "    loss = criterion(outputs,targets)\n",
        "\n",
        "    #keep the loss so we can plot it later\n",
        "    losses.append(loss.item())\n",
        "\n",
        "    #backward and optimize\n",
        "    loss.backward()\n",
        "    optimizer.step()\n",
        "\n",
        "    print(f'Epoch {it+1}/{n_epochs}, Loss: {loss.item():4f}')"
      ],
      "execution_count": null,
      "outputs": [
        {
          "output_type": "stream",
          "text": [
            "Epoch 1/30, Loss: 1.133914\n",
            "Epoch 2/30, Loss: 0.862468\n",
            "Epoch 3/30, Loss: 0.738565\n",
            "Epoch 4/30, Loss: 0.682009\n",
            "Epoch 5/30, Loss: 0.656193\n",
            "Epoch 6/30, Loss: 0.644409\n",
            "Epoch 7/30, Loss: 0.639029\n",
            "Epoch 8/30, Loss: 0.636574\n",
            "Epoch 9/30, Loss: 0.635453\n",
            "Epoch 10/30, Loss: 0.634941\n",
            "Epoch 11/30, Loss: 0.634708\n",
            "Epoch 12/30, Loss: 0.634601\n",
            "Epoch 13/30, Loss: 0.634552\n",
            "Epoch 14/30, Loss: 0.634530\n",
            "Epoch 15/30, Loss: 0.634520\n",
            "Epoch 16/30, Loss: 0.634515\n",
            "Epoch 17/30, Loss: 0.634513\n",
            "Epoch 18/30, Loss: 0.634512\n",
            "Epoch 19/30, Loss: 0.634512\n",
            "Epoch 20/30, Loss: 0.634511\n",
            "Epoch 21/30, Loss: 0.634511\n",
            "Epoch 22/30, Loss: 0.634511\n",
            "Epoch 23/30, Loss: 0.634511\n",
            "Epoch 24/30, Loss: 0.634511\n",
            "Epoch 25/30, Loss: 0.634511\n",
            "Epoch 26/30, Loss: 0.634511\n",
            "Epoch 27/30, Loss: 0.634511\n",
            "Epoch 28/30, Loss: 0.634511\n",
            "Epoch 29/30, Loss: 0.634511\n",
            "Epoch 30/30, Loss: 0.634511\n"
          ],
          "name": "stdout"
        }
      ]
    },
    {
      "cell_type": "code",
      "metadata": {
        "colab": {
          "base_uri": "https://localhost:8080/",
          "height": 282
        },
        "id": "QRDKgvO3Acj_",
        "outputId": "61bd06b8-8d60-4e27-b810-4dee04fb19dd"
      },
      "source": [
        "plt.plot(losses)"
      ],
      "execution_count": null,
      "outputs": [
        {
          "output_type": "execute_result",
          "data": {
            "text/plain": [
              "[<matplotlib.lines.Line2D at 0x7f7725681a50>]"
            ]
          },
          "metadata": {
            "tags": []
          },
          "execution_count": 11
        },
        {
          "output_type": "display_data",
          "data": {
            "image/png": "[encoded data removed]",
            "text/plain": [
              "<Figure size 432x288 with 1 Axes>"
            ]
          },
          "metadata": {
            "tags": [],
            "needs_background": "light"
          }
        }
      ]
    },
    {
      "cell_type": "code",
      "metadata": {
        "colab": {
          "base_uri": "https://localhost:8080/",
          "height": 265
        },
        "id": "fSF5F3OWBB6E",
        "outputId": "1785e23a-8a38-4ce8-fb39-1d151e970775"
      },
      "source": [
        "predicted = model(inputs).detach().numpy()\n",
        "plt.scatter(X,Y,label = 'Orginal Data')\n",
        "plt.plot(X,predicted,label='Fitted Line')\n",
        "plt.legend()\n",
        "plt.show()"
      ],
      "execution_count": null,
      "outputs": [
        {
          "output_type": "display_data",
          "data": {
            "image/png": "[encoded data removed]",
            "text/plain": [
              "<Figure size 432x288 with 1 Axes>"
            ]
          },
          "metadata": {
            "tags": [],
            "needs_background": "light"
          }
        }
      ]
    },
    {
      "cell_type": "code",
      "metadata": {
        "colab": {
          "base_uri": "https://localhost:8080/"
        },
        "id": "_-iiM93UBlu9",
        "outputId": "42d5e303-57c6-4164-851a-a3a62e6195f7"
      },
      "source": [
        "with torch.no_grad():\n",
        "  out = model(inputs).numpy()\n",
        "\n",
        "out"
      ],
      "execution_count": null,
      "outputs": [
        {
          "output_type": "execute_result",
          "data": {
            "text/plain": [
              "array([[-2.6664188 ],\n",
              "       [ 1.3934147 ],\n",
              "       [ 1.478658  ],\n",
              "       [ 0.17221898],\n",
              "       [ 0.40307635],\n",
              "       [-2.019637  ],\n",
              "       [-1.4907751 ],\n",
              "       [-0.64522135],\n",
              "       [-0.34898627],\n",
              "       [-0.32539332],\n",
              "       [-1.2654237 ],\n",
              "       [ 1.3505363 ],\n",
              "       [-0.4107899 ],\n",
              "       [-3.107021  ],\n",
              "       [-3.1495848 ],\n",
              "       [-0.31036216],\n",
              "       [ 1.2527003 ],\n",
              "       [ 0.9607586 ],\n",
              "       [-0.4855618 ],\n",
              "       [-1.5140352 ]], dtype=float32)"
            ]
          },
          "metadata": {
            "tags": []
          },
          "execution_count": 14
        }
      ]
    },
    {
      "cell_type": "code",
      "metadata": {
        "id": "4kMChmHzCEGW"
      },
      "source": [
        "#inspect the values vs actual values\n",
        "\n",
        "w = model.weight.data.numpy()\n",
        "b = model.bias.data.numpy()"
      ],
      "execution_count": null,
      "outputs": []
    },
    {
      "cell_type": "code",
      "metadata": {
        "colab": {
          "base_uri": "https://localhost:8080/"
        },
        "id": "6fm299n6CYpe",
        "outputId": "5e8759c6-d400-439c-e0d5-609df312446c"
      },
      "source": [
        "print(w,b)"
      ],
      "execution_count": null,
      "outputs": [
        {
          "output_type": "stream",
          "text": [
            "[[0.51231414]] [-0.9042955]\n"
          ],
          "name": "stdout"
        }
      ]
    },
    {
      "cell_type": "code",
      "metadata": {
        "id": "75pTiZW9CbJO"
      },
      "source": [],
      "execution_count": null,
      "outputs": []
    }
  ]
}